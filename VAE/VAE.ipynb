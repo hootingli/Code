{
 "cells": [
  {
   "cell_type": "markdown",
   "metadata": {},
   "source": [
    "## VAE"
   ]
  },
  {
   "cell_type": "markdown",
   "metadata": {},
   "source": [
    "Import required packages"
   ]
  },
  {
   "cell_type": "code",
   "execution_count": null,
   "metadata": {},
   "outputs": [],
   "source": [
    "import torch\n",
    "from tqdm import tqdm\n",
    "from torch import nn, optim\n",
    "from model import VariationalAutoEncoder  # Assuming you have a VAE model defined in 'model.py'\n",
    "from torch.utils.data import TensorDataset, DataLoader\n",
    "import h5py\n",
    "import pandas as pd\n",
    "import numpy as np\n",
    "import scipy.io\n",
    "from torch.optim import lr_scheduler\n",
    "from deeper_model import DeepVariationalAutoEncoder"
   ]
  },
  {
   "cell_type": "code",
   "execution_count": null,
   "metadata": {},
   "outputs": [],
   "source": [
    "def adjust_learning_rate(optimizer, epoch):\n",
    "    \"\"\"Sets the learning rate to the initial LR decayed by 10 every 100 epochs\"\"\"\n",
    "    NEW_LR_RATE = LR_RATE * (0.75 ** (epoch // 100))\n",
    "    for param_group in optimizer.param_groups:\n",
    "        param_group['lr'] = NEW_LR_RATE"
   ]
  },
  {
   "cell_type": "markdown",
   "metadata": {},
   "source": [
    "Configuration"
   ]
  },
  {
   "cell_type": "code",
   "execution_count": 46,
   "metadata": {},
   "outputs": [],
   "source": [
    "# Configuration\n",
    "DEVICE = torch.device(\"cuda\" if torch.cuda.is_available() else \"cpu\")\n",
    "INPUT_DIM = 100  # Adjusted input dimension to match your complex data\n",
    "H_DIM = 1000\n",
    "Z_DIM = 2\n",
    "NUM_EPOCHS = 20000\n",
    "BATCH_SIZE = 256 # Adjusted batch size\n",
    "LR_RATE = 2e-4\n",
    "\n",
    "# Assuming you have a PyTorch model called VariationalAutoEncoder defined in 'model.py'\n",
    "model = VariationalAutoEncoder(input_dim=INPUT_DIM, h_dim=H_DIM, z_dim=Z_DIM).to(DEVICE)\n",
    "optimizer = optim.Adam(model.parameters(), lr=LR_RATE)\n",
    "#optimizer = optim.Adagrad(model.parameters(), lr=LR_RATE)\n",
    "#loss_fn = nn.BCELoss(reduction=\"sum\")  # You might want to use a different loss function\n",
    "#loss_fn = nn.L1Loss(reduction=\"sum\")\n",
    "loss_fn = nn.MSELoss(reduction=\"sum\")"
   ]
  },
  {
   "cell_type": "markdown",
   "metadata": {},
   "source": [
    "Import Training Data"
   ]
  },
  {
   "cell_type": "code",
   "execution_count": 28,
   "metadata": {},
   "outputs": [],
   "source": [
    "# Load the dataset to a 777x4x1000 data called conformalWeldings\n",
    "# Load the .mat file\n",
    "#with h5py.File('./VAE/preprocessed2.mat', 'r') as mat_file:\n",
    "\n",
    "#with h5py.File('./VAE/preprocessed_normalized.mat', 'r') as mat_file:\n",
    "with h5py.File('./preprocessed(theta_ma+bias,1iteration).mat', 'r') as mat_file:\n",
    "    # Access the 'bc_dict' group\n",
    "    bc_dict_group = mat_file['bc_dict']\n",
    "\n",
    "    # Initialize a 3D NumPy array to store theta\n",
    "    conformalWeldings = np.empty((len(bc_dict_group), 1, 100), dtype=np.float32)  # Use float32 instead of complex128\n",
    "\n",
    "    # Iterate over the fields (e.g., 'Case00_12', 'Case00_13', etc.)\n",
    "    for i, field_name in enumerate(bc_dict_group):\n",
    "        case_group = bc_dict_group[field_name]\n",
    "        xq = case_group['x'][:]  # Load the 'x' dataset into a structured array\n",
    "        yq = case_group['y'][:]  # Load the 'y' dataset into a structured array\n",
    "        theta = case_group['theta'][:]  # Load the 'theta' dataset into a structured array\n",
    "        theta = np.insert(theta, 0, 0)\n",
    "        theta = np.diff(theta) # Use diff between theta to train\n",
    "        theta_ma = case_group['theta_ma'][:]  # Load the 'theta_ma' dataset into a structured array\n",
    "        theta_ma = np.insert(theta_ma, 0, 0)\n",
    "        theta_ma = np.diff(theta_ma)\n",
    "        bias = case_group['bias'][:]  # Load the 'bias' dataset into a structured array\n",
    "        \n",
    "        conformalWeldings[i, :, :100] = theta # Correspond theta and bias together\n",
    "        #conformalWeldings[i, :, -100:] = bias \n",
    "\n",
    "        # Store the real and imaginary parts separately\n",
    "        # conformalWeldings[i, 0, :] = np.abs(xq['real'])\n",
    "        # conformalWeldings[i, 1, :] = np.abs(xq['imag'])\n",
    "        \n",
    "        #conformalWeldings[i, 0, :] = np.abs(yq['real']).astype(float)\n",
    "        #conformalWeldings[i, 1, :] = np.abs(yq['imag']).astype(float)\n",
    "        \n",
    "        #conformalWeldings[i, 0, :] = yq['real'].astype(float)\n",
    "        #conformalWeldings[i, 1, :] = yq['imag'].astype(float)\n",
    "\n",
    "        \n",
    "\n",
    "# Assuming you have your 777x2x1000 data stored in a NumPy array named 'conformalWeldings'\n",
    "#conformalWeldings = conformalWeldings[:10, :, :]\n",
    "conformalWeldings = torch.tensor(conformalWeldings).to(DEVICE) \n",
    "\n",
    "\n",
    "\n",
    "# Create a DataLoader for your dataset\n",
    "train_data = TensorDataset(conformalWeldings)\n",
    "train_loader = DataLoader(dataset=train_data, batch_size=BATCH_SIZE, shuffle=True)"
   ]
  },
  {
   "cell_type": "markdown",
   "metadata": {},
   "source": [
    "Training"
   ]
  },
  {
   "cell_type": "code",
   "execution_count": 49,
   "metadata": {},
   "outputs": [
    {
     "name": "stderr",
     "output_type": "stream",
     "text": [
      "                                                        \r"
     ]
    },
    {
     "name": "stdout",
     "output_type": "stream",
     "text": [
      "Epoch 1000/20000, Alpha: 0.7500, Learning Rate: 2.0e-04\n",
      "Reconstruction Loss: 16.2761, Reconstruction Diff Loss: 16.8022, KL Divergence Loss: 563.7362\n"
     ]
    },
    {
     "name": "stderr",
     "output_type": "stream",
     "text": [
      "                                                \r"
     ]
    },
    {
     "name": "stdout",
     "output_type": "stream",
     "text": [
      "Epoch 2000/20000, Alpha: 0.7500, Learning Rate: 2.0e-04\n",
      "Reconstruction Loss: 15.3818, Reconstruction Diff Loss: 16.1452, KL Divergence Loss: 583.5564\n"
     ]
    },
    {
     "name": "stderr",
     "output_type": "stream",
     "text": [
      "                                                        \r"
     ]
    },
    {
     "name": "stdout",
     "output_type": "stream",
     "text": [
      "Epoch 3000/20000, Alpha: 0.7500, Learning Rate: 2.0e-04\n",
      "Reconstruction Loss: 14.6907, Reconstruction Diff Loss: 15.6654, KL Divergence Loss: 615.1850\n"
     ]
    },
    {
     "name": "stderr",
     "output_type": "stream",
     "text": [
      "                                                \r"
     ]
    },
    {
     "name": "stdout",
     "output_type": "stream",
     "text": [
      "Epoch 4000/20000, Alpha: 0.7500, Learning Rate: 2.0e-04\n",
      "Reconstruction Loss: 14.7599, Reconstruction Diff Loss: 15.7364, KL Divergence Loss: 621.8361\n"
     ]
    },
    {
     "name": "stderr",
     "output_type": "stream",
     "text": [
      "                                                \r"
     ]
    },
    {
     "name": "stdout",
     "output_type": "stream",
     "text": [
      "Epoch 5000/20000, Alpha: 0.7500, Learning Rate: 2.0e-04\n",
      "Reconstruction Loss: 14.4127, Reconstruction Diff Loss: 15.4488, KL Divergence Loss: 621.4838\n"
     ]
    },
    {
     "name": "stderr",
     "output_type": "stream",
     "text": [
      "                                                        \r"
     ]
    },
    {
     "name": "stdout",
     "output_type": "stream",
     "text": [
      "Epoch 6000/20000, Alpha: 0.7500, Learning Rate: 2.0e-04\n",
      "Reconstruction Loss: 14.1723, Reconstruction Diff Loss: 15.0925, KL Divergence Loss: 640.1735\n"
     ]
    },
    {
     "name": "stderr",
     "output_type": "stream",
     "text": [
      "                                                \r"
     ]
    },
    {
     "name": "stdout",
     "output_type": "stream",
     "text": [
      "Epoch 7000/20000, Alpha: 0.7500, Learning Rate: 2.0e-04\n",
      "Reconstruction Loss: 13.9251, Reconstruction Diff Loss: 14.9470, KL Divergence Loss: 646.0466\n"
     ]
    },
    {
     "name": "stderr",
     "output_type": "stream",
     "text": [
      "                                                        \r"
     ]
    },
    {
     "name": "stdout",
     "output_type": "stream",
     "text": [
      "Epoch 8000/20000, Alpha: 0.7500, Learning Rate: 2.0e-04\n",
      "Reconstruction Loss: 13.8484, Reconstruction Diff Loss: 14.8948, KL Divergence Loss: 658.5765\n"
     ]
    },
    {
     "name": "stderr",
     "output_type": "stream",
     "text": [
      "                                                        \r"
     ]
    },
    {
     "name": "stdout",
     "output_type": "stream",
     "text": [
      "Epoch 9000/20000, Alpha: 0.7500, Learning Rate: 2.0e-04\n",
      "Reconstruction Loss: 13.9398, Reconstruction Diff Loss: 14.7507, KL Divergence Loss: 652.4796\n"
     ]
    },
    {
     "name": "stderr",
     "output_type": "stream",
     "text": [
      "                                                \r"
     ]
    },
    {
     "name": "stdout",
     "output_type": "stream",
     "text": [
      "Epoch 10000/20000, Alpha: 0.7500, Learning Rate: 2.0e-04\n",
      "Reconstruction Loss: 13.6843, Reconstruction Diff Loss: 14.5923, KL Divergence Loss: 655.0860\n"
     ]
    },
    {
     "name": "stderr",
     "output_type": "stream",
     "text": [
      "                                                \r"
     ]
    },
    {
     "name": "stdout",
     "output_type": "stream",
     "text": [
      "Epoch 11000/20000, Alpha: 0.7500, Learning Rate: 2.0e-04\n",
      "Reconstruction Loss: 13.5217, Reconstruction Diff Loss: 14.4267, KL Divergence Loss: 657.6577\n"
     ]
    },
    {
     "name": "stderr",
     "output_type": "stream",
     "text": [
      "                                                        \r"
     ]
    },
    {
     "name": "stdout",
     "output_type": "stream",
     "text": [
      "Epoch 12000/20000, Alpha: 0.7500, Learning Rate: 2.0e-04\n",
      "Reconstruction Loss: 13.5624, Reconstruction Diff Loss: 14.4868, KL Divergence Loss: 658.8394\n"
     ]
    },
    {
     "name": "stderr",
     "output_type": "stream",
     "text": [
      "                                                        \r"
     ]
    },
    {
     "name": "stdout",
     "output_type": "stream",
     "text": [
      "Epoch 13000/20000, Alpha: 0.7500, Learning Rate: 2.0e-04\n",
      "Reconstruction Loss: 13.1815, Reconstruction Diff Loss: 14.1370, KL Divergence Loss: 672.3164\n"
     ]
    },
    {
     "name": "stderr",
     "output_type": "stream",
     "text": [
      "                                                \r"
     ]
    },
    {
     "name": "stdout",
     "output_type": "stream",
     "text": [
      "Epoch 14000/20000, Alpha: 0.7500, Learning Rate: 2.0e-04\n",
      "Reconstruction Loss: 13.3563, Reconstruction Diff Loss: 14.2768, KL Divergence Loss: 667.3837\n"
     ]
    },
    {
     "name": "stderr",
     "output_type": "stream",
     "text": [
      "                                                        \r"
     ]
    },
    {
     "name": "stdout",
     "output_type": "stream",
     "text": [
      "Epoch 15000/20000, Alpha: 0.7500, Learning Rate: 2.0e-04\n",
      "Reconstruction Loss: 13.0738, Reconstruction Diff Loss: 14.0979, KL Divergence Loss: 682.9265\n"
     ]
    },
    {
     "name": "stderr",
     "output_type": "stream",
     "text": [
      "                                                        \r"
     ]
    },
    {
     "name": "stdout",
     "output_type": "stream",
     "text": [
      "Epoch 16000/20000, Alpha: 0.7500, Learning Rate: 2.0e-04\n",
      "Reconstruction Loss: 13.1428, Reconstruction Diff Loss: 14.0154, KL Divergence Loss: 670.9469\n"
     ]
    },
    {
     "name": "stderr",
     "output_type": "stream",
     "text": [
      "                                                        \r"
     ]
    },
    {
     "name": "stdout",
     "output_type": "stream",
     "text": [
      "Epoch 17000/20000, Alpha: 0.7500, Learning Rate: 2.0e-04\n",
      "Reconstruction Loss: 13.0806, Reconstruction Diff Loss: 13.9880, KL Divergence Loss: 668.9331\n"
     ]
    },
    {
     "name": "stderr",
     "output_type": "stream",
     "text": [
      "                                                \r"
     ]
    },
    {
     "name": "stdout",
     "output_type": "stream",
     "text": [
      "Epoch 18000/20000, Alpha: 0.7500, Learning Rate: 2.0e-04\n",
      "Reconstruction Loss: 13.1426, Reconstruction Diff Loss: 13.9340, KL Divergence Loss: 684.4015\n"
     ]
    },
    {
     "name": "stderr",
     "output_type": "stream",
     "text": [
      "                                                        \r"
     ]
    },
    {
     "name": "stdout",
     "output_type": "stream",
     "text": [
      "Epoch 19000/20000, Alpha: 0.7500, Learning Rate: 2.0e-04\n",
      "Reconstruction Loss: 13.1558, Reconstruction Diff Loss: 14.0394, KL Divergence Loss: 679.5843\n"
     ]
    },
    {
     "name": "stderr",
     "output_type": "stream",
     "text": [
      "                                                "
     ]
    },
    {
     "name": "stdout",
     "output_type": "stream",
     "text": [
      "Epoch 20000/20000, Alpha: 0.7500, Learning Rate: 2.0e-04\n",
      "Reconstruction Loss: 12.8921, Reconstruction Diff Loss: 13.7662, KL Divergence Loss: 691.3929\n"
     ]
    },
    {
     "name": "stderr",
     "output_type": "stream",
     "text": [
      "\r"
     ]
    }
   ],
   "source": [
    "for param_group in [model.img_2hid.parameters(), model.hid_2mu.parameters(), model.hid_2sigma.parameters()]:\n",
    "    for param in param_group:\n",
    "        param.requires_grad = True\n",
    "for param_group in [model.z_2hid.parameters(), model.hid_2img.parameters()]:\n",
    "    for param in param_group:\n",
    "        param.requires_grad = True\n",
    "                \n",
    "# Start Training\n",
    "for epoch in range(NUM_EPOCHS):\n",
    "    #adjust_learning_rate(optimizer, epoch)\n",
    "    loop = tqdm(enumerate(train_loader), total=len(train_loader), leave=False)\n",
    "    \n",
    "    reconstruction_losses = []  # To store reconstruction losses\n",
    "    reconstruction_diff_losses = []  # To store reconstruction diff losses\n",
    "    kl_div_losses = []         # To store KL divergence losses\n",
    "\n",
    "    for i, batch in loop:\n",
    "        for x in batch:\n",
    "            # Forward Pass\n",
    "            x = x.to(DEVICE, dtype=torch.float32).view(x.shape[0], INPUT_DIM)\n",
    "            x_reconstructed, mu, sigma = model(x)\n",
    "\n",
    "            # Compute loss\n",
    "            reconstruction_loss = loss_fn(x_reconstructed, x)\n",
    "            reconstruction_diff_loss = loss_fn(torch.diff(x_reconstructed, dim=1), torch.diff(x, dim=1))\n",
    "            kl_div = -torch.sum(1 + torch.log(sigma.pow(2)) - mu.pow(2) - sigma.pow(2))\n",
    "\n",
    "            # Backprop\n",
    "            #loss = model.alpha * reconstruction_loss + (1-model.alpha) * kl_div\n",
    "            #loss = kl_div\n",
    "            #loss = reconstruction_loss\n",
    "            loss = reconstruction_loss + 0.01 * kl_div\n",
    "            #loss = reconstruction_loss + 0.1*reconstruction_diff_loss + 0.1 * kl_div\n",
    "            optimizer.zero_grad()\n",
    "            loss.backward()\n",
    "            optimizer.step()\n",
    "            loop.set_postfix(loss=loss.item())\n",
    "\n",
    "            # Append losses to the lists\n",
    "            reconstruction_losses.append(reconstruction_loss.item())\n",
    "            reconstruction_diff_losses.append(reconstruction_diff_loss.item())\n",
    "            kl_div_losses.append(kl_div.item())\n",
    "\n",
    "    # Calculate and print average losses for this epoch\n",
    "    avg_reconstruction_loss = sum(reconstruction_losses) / len(reconstruction_losses)\n",
    "    avg_reconstruction_diff_loss = sum(reconstruction_diff_losses) / len(reconstruction_diff_losses)\n",
    "    avg_kl_div_loss = sum(kl_div_losses) / len(kl_div_losses)\n",
    "    if((epoch+1)%1000==0):\n",
    "        print(f\"Epoch {epoch+1}/{NUM_EPOCHS}, Alpha: {model.alpha.item():.4f}, Learning Rate: {optimizer.param_groups[0]['lr']:.1e}\")\n",
    "        print(f\"Reconstruction Loss: {avg_reconstruction_loss:.4f}, Reconstruction Diff Loss: {avg_reconstruction_diff_loss:.4f}, KL Divergence Loss: {avg_kl_div_loss:.4f}\")\n",
    "\n",
    "\n",
    "\n",
    "\n",
    "model = model.to(\"cpu\")"
   ]
  },
  {
   "cell_type": "markdown",
   "metadata": {},
   "source": [
    "Save Model"
   ]
  },
  {
   "cell_type": "code",
   "execution_count": null,
   "metadata": {},
   "outputs": [],
   "source": [
    "torch.save(model, './VAE_theta+bias1.pth')"
   ]
  },
  {
   "cell_type": "markdown",
   "metadata": {},
   "source": [
    "Visualize Latent Variables"
   ]
  },
  {
   "cell_type": "code",
   "execution_count": 50,
   "metadata": {},
   "outputs": [
    {
     "data": {
      "image/png": "[encoded data removed]",
      "text/plain": [
       "<Figure size 640x480 with 1 Axes>"
      ]
     },
     "metadata": {},
     "output_type": "display_data"
    }
   ],
   "source": [
    "import torch\n",
    "import numpy as np\n",
    "import matplotlib.pyplot as plt\n",
    "\n",
    "\n",
    "def visualize_latent_distribution(model, data_loader, device='cpu'):\n",
    "    model.eval()  # Set the model to evaluation mode\n",
    "    zs = []  # List to store the latent variables\n",
    "\n",
    "    with torch.no_grad():  # No need to track gradients\n",
    "        for batch in data_loader:\n",
    "            # Handle DataLoader returning either (data, target) or just data\n",
    "            x = batch[0] if isinstance(batch, list) or isinstance(batch, tuple) else batch\n",
    "            x = x.to(device, dtype=torch.float32)\n",
    "            if x.dim() > 2:  # If your data is in a higher dimensional shape (e.g., images)\n",
    "                x = x.view(x.size(0), -1)  # Flatten the image\n",
    "            # Ensure the flattened size matches the model's expected input size\n",
    "            assert x.shape[1] == input_size, f\"Input shape must be [batch_size, {input_size}], but got: {x.shape}\"\n",
    "            mu, sigma = model.encode(x)\n",
    "            epsilon = torch.randn_like(sigma)\n",
    "            z = mu + sigma * epsilon  # Reparameterization trick\n",
    "            zs.append(z.cpu().numpy())  # Move z to CPU and convert to numpy\n",
    "\n",
    "    zs = np.concatenate(zs, axis=0)  # Combine all batch zs into a single array\n",
    "\n",
    "    if zs.shape[1] == 2:  # Check if the latent space is 2D\n",
    "        plt.scatter(zs[:, 0], zs[:, 1], alpha=0.5)\n",
    "        plt.xlabel('z1')\n",
    "        plt.ylabel('z2')\n",
    "        plt.title('Latent Variable Distribution')\n",
    "        plt.show()\n",
    "    else:\n",
    "        print(\"Latent space is not 2D. Consider using dimensionality reduction for visualization.\")\n",
    "        print(zs.shape[1])\n",
    "\n",
    "# Example usage\n",
    "device = torch.device('cuda' if torch.cuda.is_available() else 'cpu')\n",
    "input_size = 100  # Replace 200 with the actual size of your input data\n",
    "\n",
    "# Assuming 'train_data' is defined and is a PyTorch Dataset\n",
    "# Make sure your DataLoader is correctly set up to load the dataset\n",
    "data_loader = DataLoader(dataset=train_data, batch_size=16, shuffle=True)\n",
    "visualize_latent_distribution(model, data_loader, device)\n"
   ]
  },
  {
   "cell_type": "markdown",
   "metadata": {},
   "source": [
    "Generate Data"
   ]
  },
  {
   "cell_type": "code",
   "execution_count": 40,
   "metadata": {},
   "outputs": [
    {
     "data": {
      "image/png": "[encoded data removed]",
      "text/plain": [
       "<Figure size 640x480 with 1 Axes>"
      ]
     },
     "metadata": {},
     "output_type": "display_data"
    }
   ],
   "source": [
    "def generate(num_examples=1, mu_vals=None, sigma_vals=None, save_path='./output.mat'):\n",
    "    if mu_vals is None:\n",
    "        mu_vals = [0] * 2\n",
    "        #mu_vals = [-0.16, -0.3]\n",
    "        #mu_vals = [random.uniform(-0.2, 0.2) for _ in range(4)]\n",
    "    if sigma_vals is None:\n",
    "        sigma_vals = [1] * 2\n",
    "\n",
    "    generated_data = []\n",
    "    zs = []\n",
    "    # print(generated_data, mu_vals)\n",
    "    mu = torch.tensor(mu_vals, dtype=torch.float).to(DEVICE)\n",
    "    sigma = torch.tensor(sigma_vals, dtype=torch.float).to(DEVICE)\n",
    "    \n",
    "    for i in range(num_examples):\n",
    "        epsilon = torch.randn_like(sigma)\n",
    "        #mu = torch.tensor([random.uniform(-5, 5) for _ in range(4)], dtype=torch.float).to(DEVICE)\n",
    "        z = mu + sigma * epsilon\n",
    "        # print(z.shape)\n",
    "        z = z.view(1,2)\n",
    "        out = model.decode(z)\n",
    "        out = out.view(1, 1, INPUT_DIM)  # Adjusted output shape\n",
    "        # print(out[0,0,0])\n",
    "        #out = out * 10\n",
    "        generated_data.append(out)\n",
    "        zs.append(z)\n",
    "        #print(z)\n",
    "\n",
    "    # Convert the generated data to a numpy array\n",
    "    generated_data = torch.cat(generated_data, dim=0).cpu().detach().numpy()\n",
    "\n",
    "    # Save the generated data as a .mat file\n",
    "    scipy.io.savemat(save_path, {'generated_data': generated_data})\n",
    "    #print(np.where(generated_data<0))\n",
    "    #return generated_data\n",
    "\n",
    "    #Plot distribution of z\n",
    "    zs = np.concatenate(zs, axis=0)\n",
    "    if zs.shape[1] == 2:  # Check if the latent space is 2D\n",
    "        plt.scatter(zs[:, 0], zs[:, 1], alpha=0.5)\n",
    "        plt.xlabel('z1')\n",
    "        plt.ylabel('z2')\n",
    "        plt.title('Latent Variable Distribution')\n",
    "        plt.show()\n",
    "\n",
    "generated_data = generate(num_examples=500, save_path='./output_theta+bias1.mat')"
   ]
  },
  {
   "cell_type": "code",
   "execution_count": 12,
   "metadata": {},
   "outputs": [],
   "source": [
    "generated_data = generate(num_examples=100, save_path='./output_theta+bias1.mat')"
   ]
  },
  {
   "cell_type": "code",
   "execution_count": 9,
   "metadata": {},
   "outputs": [
    {
     "name": "stdout",
     "output_type": "stream",
     "text": [
      "[[0.00028411 0.05234737 0.04797823 0.04421415 0.03875498 0.01685215\n",
      "  0.01082624 0.00700575 0.00516035 0.00547098 0.0045221  0.00370633\n",
      "  0.00293047 0.00328738 0.00263979 0.00260783 0.00348331 0.02302855\n",
      "  0.00629312 0.01178335 0.02040565 0.03818487 0.03711201 0.06087416\n",
      "  0.07577338 0.09416895 0.11786502 0.14083138 0.1523429  0.171155\n",
      "  0.16865888 0.16298683 0.14780536 0.12432418 0.10674155 0.09144424\n",
      "  0.08055209 0.06582782 0.06402303 0.05156618 0.04606368 0.02077344\n",
      "  0.01460921 0.01360699 0.00796333 0.00585255 0.00961805 0.00581539\n",
      "  0.00365641 0.00240115 0.00342594 0.00401294 0.00554766 0.00584399\n",
      "  0.00355556 0.00966443 0.01126921 0.01291591 0.0140652  0.02361258\n",
      "  0.00945819 0.03063254 0.0414787  0.05529776 0.05703026 0.06242647\n",
      "  0.0706693  0.07064448 0.08104251 0.08231163 0.0867929  0.08468538\n",
      "  0.08395071 0.08254439 0.08604357 0.09220032 0.09170415 0.10367917\n",
      "  0.09659114 0.09717874 0.09545883 0.09291275 0.09042667 0.08649794\n",
      "  0.08403222 0.08290898 0.07554255 0.07063833 0.06857036 0.06535432\n",
      "  0.06138042 0.06283607 0.04549487 0.05396996 0.05713305 0.05569039\n",
      "  0.0447783  0.04749149 0.04224084 0.04530862]]\n"
     ]
    }
   ],
   "source": [
    "print(generated_data[3])"
   ]
  },
  {
   "cell_type": "markdown",
   "metadata": {},
   "source": [
    "## SoftIntroVAE"
   ]
  },
  {
   "cell_type": "markdown",
   "metadata": {},
   "source": [
    "Import Training Data"
   ]
  },
  {
   "cell_type": "code",
   "execution_count": null,
   "metadata": {},
   "outputs": [],
   "source": [
    "#with h5py.File('./VAE/preprocessed2.mat', 'r') as mat_file:\n",
    "\n",
    "#with h5py.File('./VAE/preprocessed_normalized.mat', 'r') as mat_file:\n",
    "with h5py.File('./preprocessed(theta_ma+bias,1iteration).mat', 'r') as mat_file:\n",
    "    # Access the 'bc_dict' group\n",
    "    bc_dict_group = mat_file['bc_dict']\n",
    "\n",
    "    # Initialize a 3D NumPy array to store theta\n",
    "    conformalWeldings = np.empty((len(bc_dict_group), 1, 100), dtype=np.float32)  # Use float32 instead of complex128\n",
    "\n",
    "    # Iterate over the fields (e.g., 'Case00_12', 'Case00_13', etc.)\n",
    "    for i, field_name in enumerate(bc_dict_group):\n",
    "        case_group = bc_dict_group[field_name]\n",
    "        xq = case_group['x'][:]  # Load the 'x' dataset into a structured array\n",
    "        yq = case_group['y'][:]  # Load the 'y' dataset into a structured array\n",
    "        theta = case_group['theta'][:]  # Load the 'theta' dataset into a structured array\n",
    "        theta = np.insert(theta, 0, 0)\n",
    "        theta = np.diff(theta) # Use diff between theta to train\n",
    "        theta_ma = case_group['theta_ma'][:]  # Load the 'theta_ma' dataset into a structured array\n",
    "        theta_ma = np.insert(theta_ma, 0, 0)\n",
    "        theta_ma = np.diff(theta_ma)\n",
    "        bias = case_group['bias'][:]  # Load the 'bias' dataset into a structured array\n",
    "        \n",
    "        conformalWeldings[i, :, :100] = theta # Correspond theta and bias together\n",
    "        #conformalWeldings[i, :, -100:] = bias \n",
    "\n",
    "\n",
    "conformalWeldings = torch.tensor(conformalWeldings).to(DEVICE) \n",
    "\n",
    "# Create a DataLoader for your dataset\n",
    "train_data = TensorDataset(conformalWeldings)\n",
    "train_loader = DataLoader(dataset=train_data, batch_size=BATCH_SIZE, shuffle=True)"
   ]
  },
  {
   "cell_type": "markdown",
   "metadata": {},
   "source": [
    "Configuration"
   ]
  },
  {
   "cell_type": "code",
   "execution_count": null,
   "metadata": {},
   "outputs": [],
   "source": [
    "# Configuration\n",
    "DEVICE = torch.device(\"cuda\" if torch.cuda.is_available() else \"cpu\")\n",
    "INPUT_DIM = 100  # Adjusted input dimension to match your complex data\n",
    "H_DIM = 1000\n",
    "Z_DIM = 2\n",
    "NUM_EPOCHS = 30000\n",
    "BATCH_SIZE = 128 # Adjusted batch size\n",
    "LR_RATE = 1e-4\n",
    "dim_scale = 1/INPUT_DIM\n",
    "beta_kl = 0.3\n",
    "beta_neg = 0.9\n",
    "beta_rec = 0.2\n",
    "gamma_r = 1e-8\n",
    "\n",
    "# Assuming you have a PyTorch model called VariationalAutoEncoder defined in 'model.py'\n",
    "model = VariationalAutoEncoder(input_dim=INPUT_DIM, h_dim=H_DIM, z_dim=Z_DIM).to(DEVICE)\n",
    "optimizer_e = optim.Adam(model.parameters(), lr=LR_RATE)\n",
    "optimizer_d = optim.Adam(model.parameters(), lr=LR_RATE)\n",
    "loss_fn = nn.MSELoss(reduction=\"sum\")"
   ]
  },
  {
   "cell_type": "code",
   "execution_count": null,
   "metadata": {},
   "outputs": [],
   "source": [
    "for epoch in range(NUM_EPOCHS):\n",
    "    loop = tqdm(enumerate(train_loader), total=len(train_loader), leave=False)\n",
    "    total_lossE = 0  # To store encoder losses\n",
    "    total_lossD = 0  # To store decoder losses\n",
    "    total_loss_real_rec = 0  # To store total real reconstruction loss\n",
    "    total_loss_real_kl = 0  # To store total real KL divergence loss\n",
    "\n",
    "    for i, (real_batch,) in loop:\n",
    "        real_batch = real_batch.to(DEVICE, dtype=torch.float32).view(real_batch.shape[0], INPUT_DIM)\n",
    "\n",
    "        # =========== Update E ================\n",
    "        for param_group in [model.img_2hid.parameters(), model.hid_2mu.parameters(), model.hid_2sigma.parameters()]:\n",
    "            for param in param_group:\n",
    "                param.requires_grad = True\n",
    "        for param_group in [model.z_2hid.parameters(), model.hid_2img.parameters()]:\n",
    "            for param in param_group:\n",
    "                param.requires_grad = False\n",
    "\n",
    "        x_reconstructed, real_mu, real_sigma = model(real_batch)\n",
    "        rec_rec, rec_mu, rec_sigma = model(x_reconstructed)\n",
    "\n",
    "        loss_real_rec = loss_fn(real_batch, x_reconstructed)\n",
    "        loss_real_kl = -torch.sum(1 + torch.log(real_sigma.pow(2)) - real_mu.pow(2) - real_sigma.pow(2))\n",
    "\n",
    "        noise = torch.randn(real_batch.size(0), Z_DIM).to(DEVICE)\n",
    "        fake = model.decode(noise)\n",
    "        fake_reconstructed, fake_mu, fake_sigma = model(fake)\n",
    "\n",
    "        loss_fake_rec = loss_fn(fake, fake_reconstructed)\n",
    "        loss_rec_rec = loss_fn(x_reconstructed, rec_rec)\n",
    "        loss_fake_kl = -torch.sum(1 + torch.log(fake_sigma.pow(2)) - fake_mu.pow(2) - fake_sigma.pow(2))\n",
    "        loss_rec_kl = -torch.sum(1 + torch.log(rec_sigma.pow(2)) - rec_mu.pow(2) - rec_sigma.pow(2))\n",
    "\n",
    "        # expELBO\n",
    "        exp_elbo_fake = (-2 * dim_scale * (beta_rec * loss_fake_rec + beta_neg * loss_fake_kl)).exp().mean()\n",
    "        exp_elbo_rec = (-2 * dim_scale * (beta_rec * loss_rec_rec + beta_neg * loss_rec_kl)).exp().mean()\n",
    "            \n",
    "        # total loss\n",
    "        lossE = dim_scale * (beta_kl * loss_real_kl + beta_rec * loss_real_rec) + 0.25 * (exp_elbo_fake + exp_elbo_rec)\n",
    "\n",
    "        optimizer_e.zero_grad()\n",
    "        lossE.backward()\n",
    "        optimizer_e.step()\n",
    "\n",
    "        total_lossE += lossE.item()\n",
    "\n",
    "        # ========= Update D ==================\n",
    "        for param_group in [model.img_2hid.parameters(), model.hid_2mu.parameters(), model.hid_2sigma.parameters()]:\n",
    "            for param in param_group:\n",
    "                param.requires_grad = False\n",
    "        for param_group in [model.z_2hid.parameters(), model.hid_2img.parameters()]:\n",
    "            for param in param_group:\n",
    "                param.requires_grad = True\n",
    "\n",
    "        # Generate fake and handle decoder update similarly to the encoder part, focusing on decoder's losses\n",
    "        # Note: Adjust the calculations for decoder's loss here\n",
    "        x_reconstructed, real_mu, real_sigma = model(real_batch)\n",
    "        rec_rec, rec_mu, rec_sigma = model(x_reconstructed)\n",
    "\n",
    "        loss_real_rec = loss_fn(real_batch, x_reconstructed)\n",
    "        loss_real_kl = -torch.sum(1 + torch.log(real_sigma.pow(2)) - real_mu.pow(2) - real_sigma.pow(2))\n",
    "\n",
    "        noise = torch.randn(real_batch.size(0), Z_DIM).to(DEVICE)\n",
    "        fake = model.decode(noise)\n",
    "        fake_reconstructed, fake_mu, fake_sigma = model(fake)\n",
    "\n",
    "        loss_fake_rec = loss_fn(fake, fake_reconstructed)\n",
    "        loss_rec_rec = loss_fn(x_reconstructed, rec_rec)\n",
    "        loss_fake_kl = -torch.sum(1 + torch.log(fake_sigma.pow(2)) - fake_mu.pow(2) - fake_sigma.pow(2))\n",
    "        loss_rec_kl = -torch.sum(1 + torch.log(rec_sigma.pow(2)) - rec_mu.pow(2) - rec_sigma.pow(2))\n",
    "\n",
    "        lossD = beta_rec * loss_real_rec + 0.5 * beta_kl * (loss_fake_kl + loss_rec_kl) + \\\n",
    "                            gamma_r * 0.5 * beta_rec * (loss_rec_rec + loss_fake_rec)\n",
    "        lossD = dim_scale * lossD\n",
    "\n",
    "        optimizer_d.zero_grad()\n",
    "        lossD.backward()\n",
    "        optimizer_d.step()\n",
    "\n",
    "        total_lossD += lossD.item()\n",
    "        total_loss_real_rec += loss_real_rec.item()\n",
    "        total_loss_real_kl += loss_real_kl.item()\n",
    "\n",
    "        loop.set_postfix(lossE=total_lossE / (i+1), lossD=total_lossD / (i+1))\n",
    "\n",
    "    if (epoch+1) % 50 == 0:\n",
    "        print(f\"Epoch {epoch+1}/{NUM_EPOCHS}, Avg Encoder Loss: {total_lossE / len(train_loader):.4f}, Avg Decoder Loss: {total_lossD / len(train_loader):.4f}\")\n",
    "        print(f\"Average Real Reconstruction Loss: {total_loss_real_rec/ len(train_loader):.4f}, Average Real KL Divergence: {total_loss_real_kl/ len(train_loader):.4f}\")"
   ]
  },
  {
   "cell_type": "markdown",
   "metadata": {},
   "source": [
    "save model"
   ]
  },
  {
   "cell_type": "code",
   "execution_count": null,
   "metadata": {},
   "outputs": [],
   "source": [
    "model = model.to(\"cpu\")"
   ]
  },
  {
   "cell_type": "code",
   "execution_count": null,
   "metadata": {},
   "outputs": [],
   "source": [
    "torch.save(model, './SoftIntro-VAE_theta+bias1.pth')"
   ]
  },
  {
   "cell_type": "markdown",
   "metadata": {},
   "source": [
    "Generate data"
   ]
  },
  {
   "cell_type": "code",
   "execution_count": null,
   "metadata": {},
   "outputs": [],
   "source": [
    "def generate(num_examples=1, mu_vals=None, sigma_vals=None, save_path='./output.mat'):\n",
    "    if mu_vals is None:\n",
    "        mu_vals = [0] * 2\n",
    "        #mu_vals = [-0.16, -0.3]\n",
    "        #mu_vals = [random.uniform(-0.2, 0.2) for _ in range(4)]\n",
    "    if sigma_vals is None:\n",
    "        sigma_vals = [1] * 2\n",
    "\n",
    "    generated_data = []\n",
    "    mu = torch.tensor(mu_vals, dtype=torch.float).to(DEVICE)\n",
    "    sigma = torch.tensor(sigma_vals, dtype=torch.float).to(DEVICE)\n",
    "    \n",
    "    for i in range(num_examples):\n",
    "        epsilon = torch.randn_like(sigma)\n",
    "        #mu = torch.tensor([random.uniform(-5, 5) for _ in range(4)], dtype=torch.float).to(DEVICE)\n",
    "        z = mu + sigma * epsilon\n",
    "        out = model.decode(z)\n",
    "        out = out.view(1, 1, INPUT_DIM)  # Adjusted output shape\n",
    "        #out = out * 10\n",
    "        generated_data.append(out)\n",
    "        #print(z)\n",
    "\n",
    "    # Convert the generated data to a numpy array\n",
    "    generated_data = torch.cat(generated_data, dim=0).cpu().detach().numpy()\n",
    "\n",
    "    # Save the generated data as a .mat file\n",
    "    scipy.io.savemat(save_path, {'generated_data': generated_data})\n",
    "\n",
    "generate(num_examples=100, save_path='./SoftIntro_output_theta+bias1.mat')"
   ]
  },
  {
   "cell_type": "markdown",
   "metadata": {},
   "source": [
    "## SoftIntroVAE 2"
   ]
  },
  {
   "cell_type": "code",
   "execution_count": null,
   "metadata": {},
   "outputs": [],
   "source": [
    "# imports for the tutorial\n",
    "import os\n",
    "import time\n",
    "import numpy as np\n",
    "import random\n",
    "import matplotlib.pyplot as plt\n",
    "%matplotlib inline\n",
    "\n",
    "# pytorch\n",
    "import torch\n",
    "import torch.nn as nn\n",
    "import torch.optim as optim\n",
    "from torch.utils.data import Dataset, DataLoader\n",
    "import torch.nn.functional as F"
   ]
  },
  {
   "cell_type": "markdown",
   "metadata": {},
   "source": [
    "### Helper functions"
   ]
  },
  {
   "cell_type": "code",
   "execution_count": null,
   "metadata": {},
   "outputs": [],
   "source": [
    "\"\"\"\n",
    "Helper Functions\n",
    "\"\"\"\n",
    "def reparameterize(mu, logvar):\n",
    "    \"\"\"\n",
    "    This function applies the reparameterization trick:\n",
    "    z = mu(X) + sigma(X)^0.5 * epsilon, where epsilon ~ N(0,I)\n",
    "    :param mu: mean of x\n",
    "    :param logvar: log variaance of x\n",
    "    :return z: the sampled latent variable\n",
    "    \"\"\"\n",
    "    device = mu.device\n",
    "    std = torch.exp(0.5 * logvar)\n",
    "    eps = torch.randn_like(std).to(device)\n",
    "    return mu + eps * std\n",
    "\n",
    "def load_model(model, pretrained):\n",
    "    weights = torch.load(pretrained)\n",
    "    pretrained_dict = weights['model']\n",
    "    model.load_state_dict(pretrained_dict)\n",
    "    model_dict = model.state_dict()\n",
    "    \n",
    "\n",
    "def save_checkpoint(model, epoch, iteration, prefix=\"\"):\n",
    "    model_out_path = \"./saves/\" + prefix + \"model_epoch_{}_iter_{}.pth\".format(epoch, iteration)\n",
    "    state = {\"epoch\": epoch, \"model\": model.state_dict()}\n",
    "    if not os.path.exists(\"./saves/\"):\n",
    "        os.makedirs(\"./saves/\")\n",
    "\n",
    "    torch.save(state, model_out_path)\n",
    "\n",
    "    print(\"model checkpoint saved @ {}\".format(model_out_path))\n",
    "\n",
    "\n",
    "def setup_grid(range_lim=4, n_pts=1000, device=torch.device(\"cpu\")):\n",
    "    x = torch.linspace(-range_lim, range_lim, n_pts)\n",
    "    xx, yy = torch.meshgrid((x, x))\n",
    "    zz = torch.stack((xx.flatten(), yy.flatten()), dim=1)\n",
    "    return xx, yy, zz.to(device)\n",
    "\n",
    "\n",
    "def format_ax(ax, range_lim):\n",
    "    ax.set_xlim(-range_lim, range_lim)\n",
    "    ax.set_ylim(-range_lim, range_lim)\n",
    "    ax.get_xaxis().set_visible(False)\n",
    "    ax.get_yaxis().set_visible(False)\n",
    "    ax.invert_yaxis()\n",
    "    \n",
    "    \n",
    "def plot_vae_density(model, ax, test_grid, n_pts, batch_size, colorbar=False, beta_kl=1.0,\n",
    "                     beta_recon=1.0, set_title=True, device=torch.device('cpu')):\n",
    "    \"\"\" plots square grid and vae density \"\"\"\n",
    "    model.eval()\n",
    "    xx, yy, zz = test_grid\n",
    "    # compute posterior approx density\n",
    "    # p(x) = E_{z~p(z)}[q(z|x)]\n",
    "    zzk = []\n",
    "    with torch.no_grad():\n",
    "        for zz_i in zz.split(batch_size, dim=0):\n",
    "                zz_i = zz_i.to(device)\n",
    "                mu, logvar, _, rec = model(zz_i, deterministic=True)\n",
    "                recon_error = calc_reconstruction_loss(zz_i, rec, loss_type='mse', reduction='none')\n",
    "                while len(recon_error.shape) > 1:\n",
    "                    recon_error = recon_error.sum(-1)\n",
    "                kl = calc_kl(logvar=logvar, mu=mu, reduce=\"none\")\n",
    "                zzk_i = -1.0 * (beta_kl * kl + beta_recon * recon_error)\n",
    "                zzk += [zzk_i.exp()]\n",
    "    p_x = torch.cat(zzk, 0)\n",
    "    # plot\n",
    "    cmesh = ax.pcolormesh(xx.data.cpu().numpy(), yy.data.cpu().numpy(), p_x.view(n_pts, n_pts).data.cpu().numpy(),\n",
    "                          cmap=plt.cm.jet)\n",
    "    ax.set_facecolor(plt.cm.jet(0.))\n",
    "    if set_title:\n",
    "        ax.set_title('VAE density')\n",
    "    if colorbar:\n",
    "        plt.colorbar(cmesh)\n",
    "        \n",
    "        \n",
    "def calc_reconstruction_loss(x, recon_x, loss_type='mse', reduction='sum'):\n",
    "    \"\"\"\n",
    "\n",
    "    :param x: original inputs\n",
    "    :param recon_x:  reconstruction of the VAE's input\n",
    "    :param loss_type: \"mse\", \"l1\", \"bce\", \"gaussian\"\n",
    "    :param reduction: \"sum\", \"mean\", \"none\"\n",
    "    :return: recon_loss\n",
    "    \"\"\"\n",
    "    recon_x = recon_x.view(x.size(0), -1)\n",
    "    x = x.view(x.size(0), -1)\n",
    "    if reduction not in ['sum', 'mean', 'none']:\n",
    "        raise NotImplementedError\n",
    "    if loss_type == 'mse':\n",
    "        recon_error = F.mse_loss(recon_x, x, reduction='none')\n",
    "        recon_error = recon_error.sum(1)\n",
    "        if reduction == 'sum':\n",
    "            recon_error = recon_error.sum()\n",
    "        elif reduction == 'mean':\n",
    "            recon_error = recon_error.mean()\n",
    "    elif loss_type == 'l1':\n",
    "        recon_error = F.l1_loss(recon_x, x, reduction=reduction)\n",
    "    elif loss_type == 'bce':\n",
    "        recon_error = F.binary_cross_entropy(recon_x, x, reduction=reduction)\n",
    "    else:\n",
    "        raise NotImplementedError\n",
    "    return recon_error\n",
    "\n",
    "\n",
    "def calc_kl(logvar, mu, mu_o=10, is_outlier=False, reduce='sum'):\n",
    "    \"\"\"\n",
    "    Calculate kl-divergence\n",
    "    :param logvar: log-variance from the encoder\n",
    "    :param mu: mean from the encoder\n",
    "    :param mu_o: negative mean for outliers (hyper-parameter)\n",
    "    :param is_outlier: if True, calculates with mu_neg\n",
    "    :param reduce: type of reduce: 'sum', 'none'\n",
    "    :return: kld\n",
    "    \"\"\"\n",
    "    if is_outlier:\n",
    "        kl = -0.5 * (1 + logvar - mu.pow(2) - logvar.exp() + 2 * mu * mu_o - mu_o.pow(2)).sum(1)\n",
    "    else:\n",
    "        kl = -0.5 * (1 + logvar - mu.pow(2) - logvar.exp()).sum(1)\n",
    "    if reduce == 'sum':\n",
    "        kl = torch.sum(kl)\n",
    "    elif reduce == 'mean':\n",
    "        kl = torch.mean(kl)\n",
    "    return kl\n",
    "\n",
    "\n",
    "def plot_samples_density(dataset, model, scale, device):\n",
    "    \"\"\"\n",
    "    Plot real data from dataset, generated samples from model and density estimation\n",
    "    \"\"\"\n",
    "    model.eval()\n",
    "    fig = plt.figure(figsize=(18, 6))\n",
    "    ax1 = fig.add_subplot(1, 3, 1)\n",
    "    plot_batch = dataset.next_batch(batch_size=1024, device=device)\n",
    "    plot_batch = plot_batch.data.cpu().numpy()\n",
    "    ax1.scatter(plot_batch[:, 0], plot_batch[:, 1], s=8, label=\"true dist\")\n",
    "    ax1.set_xlim((-scale * 2, scale * 2))\n",
    "    ax1.set_ylim((-scale * 2, scale * 2))\n",
    "    ax1.set_axis_off()\n",
    "    ax1.set_title('Real Data')\n",
    "     \n",
    "    ax2 = fig.add_subplot(1, 3, 2)\n",
    "    noise_batch = torch.randn(size=(1024, model.zdim)).to(device)\n",
    "    plot_fake_batch = model.sample(noise_batch)\n",
    "    plot_fake_batch = plot_fake_batch.data.cpu().numpy()\n",
    "    ax2.scatter(plot_fake_batch[:, 0], plot_fake_batch[:, 1], s=8, c='g', label=\"fake\")\n",
    "    ax2.set_xlim((-scale * 2, scale * 2))\n",
    "    ax2.set_ylim((-scale * 2, scale * 2))\n",
    "    ax2.set_axis_off()\n",
    "    ax2.set_title('Fake Samples')\n",
    "    \n",
    "    ax3 = fig.add_subplot(1, 3, 3)\n",
    "    test_grid = setup_grid(range_lim=scale * 2, n_pts=1024, device=torch.device('cpu'))\n",
    "    plot_vae_density(model, ax3, test_grid, n_pts=1024, batch_size=256, colorbar=False,\n",
    "                     beta_kl=1.0, beta_recon=1.0, set_title=False, device=device)\n",
    "    ax3.set_axis_off()\n",
    "    ax3.set_title(\"Density Estimation\")\n",
    "    return fig"
   ]
  },
  {
   "cell_type": "markdown",
   "metadata": {},
   "source": [
    "### SoftIntroVAE Architecture"
   ]
  },
  {
   "cell_type": "code",
   "execution_count": null,
   "metadata": {},
   "outputs": [],
   "source": [
    "\"\"\"\n",
    "Models\n",
    "\"\"\"\n",
    "\n",
    "class EncoderSimple(nn.Module):\n",
    "    def __init__(self, x_dim=200, zdim=2, n_layers=2, num_hidden=64):\n",
    "        super(EncoderSimple, self).__init__()\n",
    "\n",
    "        self.xdim = x_dim\n",
    "        self.zdim = zdim\n",
    "        self.n_layer = n_layers\n",
    "        self.num_hidden = num_hidden\n",
    "        self.main = nn.Sequential()\n",
    "        self.main.add_module('input', nn.Linear(x_dim, num_hidden))\n",
    "        self.main.add_module('act0', nn.ReLU(True))\n",
    "        for i in range(n_layers):\n",
    "            self.main.add_module('hidden_%d' % (i + 1), nn.Linear(num_hidden, num_hidden))\n",
    "            self.main.add_module('act_%d' % (i + 1), nn.ReLU(True))\n",
    "        self.main.add_module('output', nn.Linear(num_hidden, zdim * 2))\n",
    "\n",
    "    def forward(self, x):\n",
    "        y = self.main(x).view(x.size(0), -1)\n",
    "        mu, logvar = y.chunk(2, dim=1)\n",
    "        return mu, logvar\n",
    "\n",
    "\n",
    "class DecoderSimple(nn.Module):\n",
    "    def __init__(self, x_dim=200, zdim=2, n_layers=2, num_hidden=64):\n",
    "        super(DecoderSimple, self).__init__()\n",
    "\n",
    "        self.xdim = x_dim\n",
    "        self.zdim = zdim\n",
    "        self.n_layer = n_layers\n",
    "        self.num_hidden = num_hidden\n",
    "        self.loggamma = nn.Parameter(torch.tensor(0.0))\n",
    "        self.main = nn.Sequential()\n",
    "\n",
    "        self.main.add_module('input', nn.Linear(zdim, num_hidden))\n",
    "        self.main.add_module('act0', nn.ReLU(True))\n",
    "        for i in range(n_layers):\n",
    "            self.main.add_module('hidden_%d' % (i + 1), nn.Linear(num_hidden, num_hidden))\n",
    "            self.main.add_module('act_%d' % (i + 1), nn.ReLU(True))\n",
    "        self.main.add_module('output', nn.Linear(num_hidden, x_dim))\n",
    "\n",
    "    def forward(self, z):\n",
    "        z = z.view(z.size(0), -1)\n",
    "        return self.main(z)\n",
    "\n",
    "\n",
    "class SoftIntroVAESimple(nn.Module):\n",
    "    def __init__(self, x_dim=200, zdim=2, n_layers=2, num_hidden=64):\n",
    "        super(SoftIntroVAESimple, self).__init__()\n",
    "\n",
    "        self.xdim = x_dim\n",
    "        self.zdim = zdim\n",
    "        self.n_layer = n_layers\n",
    "        self.num_hidden = num_hidden\n",
    "\n",
    "        self.encoder = EncoderSimple(x_dim, zdim, n_layers, num_hidden)\n",
    "\n",
    "        self.decoder = DecoderSimple(x_dim, zdim, n_layers, num_hidden)\n",
    "\n",
    "    def forward(self, x, deterministic=False):\n",
    "        mu, logvar = self.encode(x)\n",
    "        if deterministic:\n",
    "            z = mu\n",
    "        else:\n",
    "            z = reparameterize(mu, logvar)\n",
    "        y = self.decode(z)\n",
    "        return mu, logvar, z, y\n",
    "\n",
    "    def sample(self, z):\n",
    "        y = self.decode(z)\n",
    "        return y\n",
    "\n",
    "    def sample_with_noise(self, num_samples=1, device=torch.device(\"cpu\")):\n",
    "        z = torch.randn(num_samples, self.zdim).to(device)\n",
    "        return self.decode(z)\n",
    "\n",
    "    def encode(self, x):\n",
    "        mu, logvar = self.encoder(x)\n",
    "        return mu, logvar\n",
    "\n",
    "    def decode(self, z):\n",
    "        y = self.decoder(z)\n",
    "        return y"
   ]
  },
  {
   "cell_type": "markdown",
   "metadata": {},
   "source": [
    "### Loading Data"
   ]
  },
  {
   "cell_type": "code",
   "execution_count": null,
   "metadata": {},
   "outputs": [],
   "source": [
    "#with h5py.File('./VAE/preprocessed2.mat', 'r') as mat_file:\n",
    "\n",
    "#with h5py.File('./VAE/preprocessed_normalized.mat', 'r') as mat_file:\n",
    "with h5py.File('./preprocessed(theta_ma+bias,1iteration).mat', 'r') as mat_file:\n",
    "    # Access the 'bc_dict' group\n",
    "    bc_dict_group = mat_file['bc_dict']\n",
    "\n",
    "    # Initialize a 3D NumPy array to store theta\n",
    "    conformalWeldings = np.empty((len(bc_dict_group), 1, 200), dtype=np.float32)  # Use float32 instead of complex128\n",
    "\n",
    "    # Iterate over the fields (e.g., 'Case00_12', 'Case00_13', etc.)\n",
    "    for i, field_name in enumerate(bc_dict_group):\n",
    "        case_group = bc_dict_group[field_name]\n",
    "        xq = case_group['x'][:]  # Load the 'x' dataset into a structured array\n",
    "        yq = case_group['y'][:]  # Load the 'y' dataset into a structured array\n",
    "        theta = case_group['theta'][:]  # Load the 'theta' dataset into a structured array\n",
    "        theta = np.insert(theta, 0, 0)\n",
    "        theta = np.diff(theta) # Use diff between theta to train\n",
    "        theta_ma = case_group['theta_ma'][:]  # Load the 'theta_ma' dataset into a structured array\n",
    "        theta_ma = np.insert(theta_ma, 0, 0)\n",
    "        theta_ma = np.diff(theta_ma)\n",
    "        bias = case_group['bias'][:]  # Load the 'bias' dataset into a structured array\n",
    "        \n",
    "        conformalWeldings[i, :, :100] = theta # Correspond theta and bias together\n",
    "        conformalWeldings[i, :, -100:] = bias \n",
    "\n",
    "\n",
    "#conformalWeldings = torch.tensor(conformalWeldings).to(DEVICE) \n",
    "\n",
    "# Create a DataLoader for your dataset\n",
    "#train_data = TensorDataset(conformalWeldings)\n",
    "#train_loader = DataLoader(dataset=train_data, batch_size=BATCH_SIZE, shuffle=True)"
   ]
  },
  {
   "cell_type": "markdown",
   "metadata": {},
   "source": [
    "### Training"
   ]
  },
  {
   "cell_type": "code",
   "execution_count": null,
   "metadata": {},
   "outputs": [],
   "source": [
    "def train_soft_intro_vae_toy(z_dim=2, lr_e=2e-4, lr_d=2e-4, batch_size=32, n_iter=30000, num_vae=0, \n",
    "                             save_interval=1, recon_loss_type=\"mse\", beta_kl=1.0, beta_rec=1.0,\n",
    "                             beta_neg=1.0, test_iter=5000, seed=-1, pretrained=None, scale=1,\n",
    "                             device=torch.device(\"cpu\"), gamma_r=1e-8):\n",
    "    if seed != -1:\n",
    "        random.seed(seed)\n",
    "        np.random.seed(seed)\n",
    "        torch.manual_seed(seed)\n",
    "        torch.cuda.manual_seed(seed)\n",
    "        torch.backends.cudnn.deterministic = True\n",
    "        print(\"random seed: \", seed)\n",
    "\n",
    "    # --------------build models -------------------------\n",
    "    train_set = conformalWeldings\n",
    "    #scale *= train_set.range  # the scale of the 2d grid ([-1, 1] for Gaussians, [-2, 2] for the rest)\n",
    "\n",
    "    model = SoftIntroVAESimple(x_dim=200, zdim=z_dim, n_layers=3, num_hidden=256).to(device)\n",
    "    if pretrained is not None:\n",
    "        load_model(model, pretrained)\n",
    "    print(model)\n",
    "\n",
    "    optimizer_e = optim.Adam(model.encoder.parameters(), lr=lr_e)\n",
    "    optimizer_d = optim.Adam(model.decoder.parameters(), lr=lr_d)\n",
    "\n",
    "    milestones = (10000, 15000)\n",
    "    e_scheduler = optim.lr_scheduler.MultiStepLR(optimizer_e, milestones=milestones, gamma=0.1)\n",
    "    d_scheduler = optim.lr_scheduler.MultiStepLR(optimizer_d, milestones=milestones, gamma=0.1)\n",
    "\n",
    "    start_time = time.time()\n",
    "    dim_scale = 0.005  # normalizing factor, 's' in the paper\n",
    "\n",
    "    for it in range(n_iter):\n",
    "        batch = train_set.next_batch(batch_size=batch_size, device=device)\n",
    "        # save models\n",
    "        if it % save_interval == 0 and it > 0:\n",
    "            save_epoch = (it // save_interval) * save_interval\n",
    "            save_checkpoint(model, save_epoch, it, '')\n",
    "\n",
    "        model.train()\n",
    "        # --------------train----------------\n",
    "        if it < num_vae:\n",
    "            # vanilla VAE training, optimizeing the ELBO for both encoder and decoder\n",
    "            batch_size = batch.size(0)\n",
    "\n",
    "            real_batch = batch.to(device)\n",
    "\n",
    "            # =========== Update E, D ================\n",
    "            real_mu, real_logvar, z, rec = model(real_batch)\n",
    "\n",
    "            loss_rec = calc_reconstruction_loss(real_batch, rec, loss_type=recon_loss_type, reduction=\"mean\")\n",
    "            loss_kl = calc_kl(real_logvar, real_mu, reduce=\"mean\")\n",
    "            loss = beta_rec * loss_rec + beta_kl * loss_kl\n",
    "\n",
    "            optimizer_e.zero_grad()\n",
    "            optimizer_d.zero_grad()\n",
    "            loss.backward()\n",
    "            optimizer_e.step()\n",
    "            optimizer_d.step()\n",
    "\n",
    "            if it % test_iter == 0:\n",
    "                info = \"\\nIter: {}/{} : time: {:4.4f}: \".format(it, n_iter, time.time() - start_time)\n",
    "                info += 'Rec: {:.4f}, KL: {:.4f} '.format(loss_rec.data.cpu(), loss_kl.data.cpu())\n",
    "                print(info)\n",
    "        else:\n",
    "            # soft-intro-vae training\n",
    "            if len(batch.size()) == 3:\n",
    "                batch = batch.unsqueeze(0)\n",
    "\n",
    "            b_size = batch.size(0)\n",
    "\n",
    "            # generate random noise to produce 'fake' later\n",
    "            noise_batch = torch.randn(size=(b_size, z_dim)).to(device)\n",
    "            real_batch = batch.to(device)\n",
    "\n",
    "            # =========== Update E ================\n",
    "            for param in model.encoder.parameters():\n",
    "                param.requires_grad = True\n",
    "            for param in model.decoder.parameters():\n",
    "                param.requires_grad = False\n",
    "\n",
    "            # generate 'fake' data\n",
    "            fake = model.sample(noise_batch)\n",
    "            # optimize for real data\n",
    "            real_mu, real_logvar = model.encode(real_batch)\n",
    "            z = reparameterize(real_mu, real_logvar)\n",
    "            rec = model.decoder(z)  # reconstruction\n",
    "            # we also want to see what is the reconstruction error from mu\n",
    "            _, _, _, rec_det = model(real_batch, deterministic=True)\n",
    "\n",
    "            loss_rec = calc_reconstruction_loss(real_batch, rec, loss_type=recon_loss_type, reduction=\"mean\")\n",
    "            # reconstruction error from mu (not optimized, only to observe)\n",
    "            loss_rec_det = calc_reconstruction_loss(real_batch, rec_det.detach(), loss_type=recon_loss_type,\n",
    "                                                    reduction=\"mean\")\n",
    "\n",
    "            # KLD loss for the real data\n",
    "            lossE_real_kl = calc_kl(real_logvar, real_mu, reduce=\"mean\")\n",
    "\n",
    "            # prepare the fake data for the expELBO\n",
    "            fake_mu, fake_logvar, z_fake, rec_fake = model(fake.detach())\n",
    "            # we also consider the reconstructions as 'fake' data, as they are output of the decoder\n",
    "            rec_mu, rec_logvar, z_rec, rec_rec = model(rec.detach())\n",
    "            \n",
    "            # KLD loss for the fake data\n",
    "            fake_kl_e = calc_kl(fake_logvar, fake_mu, reduce=\"none\")\n",
    "            rec_kl_e = calc_kl(rec_logvar, rec_mu, reduce=\"none\")\n",
    "            \n",
    "            # reconstruction loss for the fake data\n",
    "            loss_fake_rec = calc_reconstruction_loss(fake, rec_fake, loss_type=recon_loss_type, reduction=\"none\")\n",
    "            loss_rec_rec = calc_reconstruction_loss(rec, rec_rec, loss_type=recon_loss_type, reduction=\"none\")\n",
    "            \n",
    "            # expELBO\n",
    "            exp_elbo_fake = (-2 * dim_scale * (beta_rec * loss_fake_rec + beta_neg * fake_kl_e)).exp().mean()\n",
    "            exp_elbo_rec = (-2 * dim_scale * (beta_rec * loss_rec_rec + beta_neg * rec_kl_e)).exp().mean()\n",
    "            \n",
    "            # total loss\n",
    "            lossE = dim_scale * (beta_kl * lossE_real_kl + beta_rec * loss_rec) + 0.25 * (exp_elbo_fake + exp_elbo_rec)\n",
    "            \n",
    "            optimizer_e.zero_grad()\n",
    "            lossE.backward()\n",
    "            optimizer_e.step()\n",
    "\n",
    "            # ========= Update D ==================\n",
    "            for param in model.encoder.parameters():\n",
    "                param.requires_grad = False\n",
    "            for param in model.decoder.parameters():\n",
    "                param.requires_grad = True\n",
    "\n",
    "            # generate fake\n",
    "            fake = model.sample(noise_batch)\n",
    "            rec = model.decoder(z.detach())\n",
    "            # ELBO loss for real -- just the reconstruction, KLD for real doesn't affect the decoder\n",
    "            loss_rec = calc_reconstruction_loss(real_batch, rec, loss_type=recon_loss_type, reduction=\"mean\")\n",
    "            \n",
    "            # prepare fake data for ELBO\n",
    "            rec_mu, rec_logvar = model.encode(rec)\n",
    "            z_rec = reparameterize(rec_mu, rec_logvar)\n",
    "            \n",
    "            fake_mu, fake_logvar = model.encode(fake)\n",
    "            z_fake = reparameterize(fake_mu, fake_logvar)\n",
    "\n",
    "            rec_rec = model.decode(z_rec.detach())\n",
    "            rec_fake = model.decode(z_fake.detach())\n",
    "\n",
    "            loss_rec_rec = calc_reconstruction_loss(rec.detach(), rec_rec, loss_type=recon_loss_type, reduction=\"mean\")\n",
    "            loss_rec_fake = calc_reconstruction_loss(fake.detach(), rec_fake, loss_type=recon_loss_type, reduction=\"mean\")\n",
    "\n",
    "            fake_kl = calc_kl(fake_logvar, fake_mu, reduce=\"mean\")\n",
    "            rec_kl = calc_kl(rec_logvar, rec_mu, reduce=\"mean\")\n",
    "\n",
    "            lossD = beta_rec * loss_rec + 0.5 * beta_kl * (fake_kl + rec_kl) + \\\n",
    "                            gamma_r * 0.5 * beta_rec * (loss_rec_rec + loss_rec_fake)\n",
    "            lossD = dim_scale * lossD\n",
    "\n",
    "            optimizer_d.zero_grad()\n",
    "            lossD.backward()\n",
    "            optimizer_d.step()\n",
    "            \n",
    "            if it % test_iter == 0:\n",
    "                info = \"\\nIter: {}/{} : time: {:4.4f}: \".format(it, n_iter, time.time() - start_time)\n",
    "\n",
    "                info += 'Rec: {:.4f} ({:.4f}), '.format(loss_rec.data.cpu(), loss_rec_det.data.cpu())\n",
    "                info += 'Kl_E: {:.4f}, expELBO_R: {:.4f}, expELBO_F: {:.4f}, '.format(lossE_real_kl.data.cpu(),\n",
    "                                                                                exp_elbo_rec.data.cpu(),\n",
    "                                                                                exp_elbo_fake.cpu())\n",
    "                info += 'Kl_F: {:.4f}, KL_R: {:.4f},'.format(fake_kl.data.cpu(), rec_kl.data.cpu())\n",
    "                info += ' DIFF_Kl_F: {:.4f}'.format(-lossE_real_kl.data.cpu() + fake_kl.data.cpu())\n",
    "\n",
    "                print(info)\n",
    "\n",
    "            if torch.isnan(lossE) or torch.isnan(lossD):\n",
    "                plt.close('all')\n",
    "                raise SystemError(\"loss is NaN.\")\n",
    "        e_scheduler.step()\n",
    "        d_scheduler.step()\n",
    "\n",
    "\n",
    "    return model"
   ]
  },
  {
   "cell_type": "code",
   "execution_count": null,
   "metadata": {},
   "outputs": [],
   "source": [
    "# hyperparameters\n",
    "device = torch.device(\"cuda:0\" if torch.cuda.is_available() else \"cpu\")\n",
    "print(\"device:\", device)\n",
    "seed = 92  # for reproducible results\n",
    "'''\n",
    "chosen_hyperparmas = {'8Gaussians': {'b_kl': 0.3, 'b_neg': 0.9, 'b_rec': 0.2},\n",
    "                      '2spirals': {'b_kl': 0.5, 'b_neg': 1.0, 'b_rec': 0.2},\n",
    "                      'checkerboard': {'b_kl': 0.1, 'b_neg': 0.2, 'b_rec': 0.2},\n",
    "                      'rings': {'b_kl': 0.2, 'b_neg': 1.0, 'b_rec': 0.2}}\n",
    "'''\n",
    "num_iter = 30000\n",
    "lr = 2e-4\n",
    "batch_size = 64"
   ]
  },
  {
   "cell_type": "code",
   "execution_count": null,
   "metadata": {},
   "outputs": [],
   "source": [
    "model = train_soft_intro_vae_toy(z_dim=2, lr_e=lr, lr_d=lr, batch_size=batch_size, n_iter=num_iter, num_vae=2000, \n",
    "                             save_interval=5000, recon_loss_type=\"mse\", beta_kl=0.2, beta_rec=0.2,\n",
    "                             beta_neg=0.9, test_iter=5000, seed=seed, scale=1,\n",
    "                             device=device)"
   ]
  }
 ],
 "metadata": {
  "kernelspec": {
   "display_name": "vae",
   "language": "python",
   "name": "python3"
  },
  "language_info": {
   "codemirror_mode": {
    "name": "ipython",
    "version": 3
   },
   "file_extension": ".py",
   "mimetype": "text/x-python",
   "name": "python",
   "nbconvert_exporter": "python",
   "pygments_lexer": "ipython3",
   "version": "3.8.16"
  }
 },
 "nbformat": 4,
 "nbformat_minor": 2
}
